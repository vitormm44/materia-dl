{
  "nbformat": 4,
  "nbformat_minor": 0,
  "metadata": {
    "colab": {
      "name": "Tarefa 1 DL.ipynb",
      "provenance": [],
      "mount_file_id": "1sTHzBVz41OXdMOzGpf5luOuE8-NZ234C",
      "authorship_tag": "ABX9TyMjoEFT2Ofs2LrEC41v8Pe5",
      "include_colab_link": true
    },
    "kernelspec": {
      "name": "python3",
      "display_name": "Python 3"
    }
  },
  "cells": [
    {
      "cell_type": "markdown",
      "metadata": {
        "id": "view-in-github",
        "colab_type": "text"
      },
      "source": [
        "<a href=\"https://colab.research.google.com/github/vitormm44/materia-dl/blob/master/Tarefa_1_DL.ipynb\" target=\"_parent\"><img src=\"https://colab.research.google.com/assets/colab-badge.svg\" alt=\"Open In Colab\"/></a>"
      ]
    },
    {
      "cell_type": "markdown",
      "metadata": {
        "id": "5VDh4Bkk0dEi",
        "colab_type": "text"
      },
      "source": [
        "Importações de pacotes e dados"
      ]
    },
    {
      "cell_type": "code",
      "metadata": {
        "id": "Z6P-iXKO1N3K",
        "colab_type": "code",
        "colab": {}
      },
      "source": [
        "import numpy as np\n",
        "import pandas as pd\n",
        "from tensorflow import keras\n",
        "import matplotlib.pyplot as plt\n",
        "from sklearn.model_selection import train_test_split\n",
        "\n",
        "from tensorflow.keras.optimizers import Adam\n",
        "from tensorflow.keras.models import Sequential\n",
        "from tensorflow.keras.layers import Dense\n",
        "from tensorflow.keras.layers import Dropout"
      ],
      "execution_count": 1,
      "outputs": []
    },
    {
      "cell_type": "code",
      "metadata": {
        "id": "J7oP4Chb2QIY",
        "colab_type": "code",
        "colab": {}
      },
      "source": [
        "dados = pd.read_csv('drive/My Drive/Colab Google/Tarefa DL 1/Pima-Diabetes.csv', header=None)\n",
        "dados_tarefa = pd.read_csv('drive/My Drive/Colab Google/Tarefa DL 1/Test-Group-2.csv', header=None)"
      ],
      "execution_count": 2,
      "outputs": []
    },
    {
      "cell_type": "markdown",
      "metadata": {
        "id": "GiT59Zl-0xgu",
        "colab_type": "text"
      },
      "source": [
        "Breve exploração dos dados"
      ]
    },
    {
      "cell_type": "code",
      "metadata": {
        "id": "bcK3xaxe0vJk",
        "colab_type": "code",
        "colab": {
          "base_uri": "https://localhost:8080/",
          "height": 196
        },
        "outputId": "367cc46e-cfe8-4337-9f91-bf49677a0034"
      },
      "source": [
        "dados.head()"
      ],
      "execution_count": 3,
      "outputs": [
        {
          "output_type": "execute_result",
          "data": {
            "text/html": [
              "<div>\n",
              "<style scoped>\n",
              "    .dataframe tbody tr th:only-of-type {\n",
              "        vertical-align: middle;\n",
              "    }\n",
              "\n",
              "    .dataframe tbody tr th {\n",
              "        vertical-align: top;\n",
              "    }\n",
              "\n",
              "    .dataframe thead th {\n",
              "        text-align: right;\n",
              "    }\n",
              "</style>\n",
              "<table border=\"1\" class=\"dataframe\">\n",
              "  <thead>\n",
              "    <tr style=\"text-align: right;\">\n",
              "      <th></th>\n",
              "      <th>0</th>\n",
              "      <th>1</th>\n",
              "      <th>2</th>\n",
              "      <th>3</th>\n",
              "      <th>4</th>\n",
              "      <th>5</th>\n",
              "      <th>6</th>\n",
              "      <th>7</th>\n",
              "      <th>8</th>\n",
              "    </tr>\n",
              "  </thead>\n",
              "  <tbody>\n",
              "    <tr>\n",
              "      <th>0</th>\n",
              "      <td>6</td>\n",
              "      <td>148</td>\n",
              "      <td>72</td>\n",
              "      <td>35</td>\n",
              "      <td>0</td>\n",
              "      <td>33.6</td>\n",
              "      <td>0.627</td>\n",
              "      <td>50</td>\n",
              "      <td>1</td>\n",
              "    </tr>\n",
              "    <tr>\n",
              "      <th>1</th>\n",
              "      <td>1</td>\n",
              "      <td>85</td>\n",
              "      <td>66</td>\n",
              "      <td>29</td>\n",
              "      <td>0</td>\n",
              "      <td>26.6</td>\n",
              "      <td>0.351</td>\n",
              "      <td>31</td>\n",
              "      <td>0</td>\n",
              "    </tr>\n",
              "    <tr>\n",
              "      <th>2</th>\n",
              "      <td>8</td>\n",
              "      <td>183</td>\n",
              "      <td>64</td>\n",
              "      <td>0</td>\n",
              "      <td>0</td>\n",
              "      <td>23.3</td>\n",
              "      <td>0.672</td>\n",
              "      <td>32</td>\n",
              "      <td>1</td>\n",
              "    </tr>\n",
              "    <tr>\n",
              "      <th>3</th>\n",
              "      <td>1</td>\n",
              "      <td>89</td>\n",
              "      <td>66</td>\n",
              "      <td>23</td>\n",
              "      <td>94</td>\n",
              "      <td>28.1</td>\n",
              "      <td>0.167</td>\n",
              "      <td>21</td>\n",
              "      <td>0</td>\n",
              "    </tr>\n",
              "    <tr>\n",
              "      <th>4</th>\n",
              "      <td>0</td>\n",
              "      <td>137</td>\n",
              "      <td>40</td>\n",
              "      <td>35</td>\n",
              "      <td>168</td>\n",
              "      <td>43.1</td>\n",
              "      <td>2.288</td>\n",
              "      <td>33</td>\n",
              "      <td>1</td>\n",
              "    </tr>\n",
              "  </tbody>\n",
              "</table>\n",
              "</div>"
            ],
            "text/plain": [
              "   0    1   2   3    4     5      6   7  8\n",
              "0  6  148  72  35    0  33.6  0.627  50  1\n",
              "1  1   85  66  29    0  26.6  0.351  31  0\n",
              "2  8  183  64   0    0  23.3  0.672  32  1\n",
              "3  1   89  66  23   94  28.1  0.167  21  0\n",
              "4  0  137  40  35  168  43.1  2.288  33  1"
            ]
          },
          "metadata": {
            "tags": []
          },
          "execution_count": 3
        }
      ]
    },
    {
      "cell_type": "code",
      "metadata": {
        "id": "7NDJSMOt2kXB",
        "colab_type": "code",
        "colab": {
          "base_uri": "https://localhost:8080/",
          "height": 284
        },
        "outputId": "3ff5089c-a03b-4663-cab4-9b1c12850375"
      },
      "source": [
        "dados.info()"
      ],
      "execution_count": 4,
      "outputs": [
        {
          "output_type": "stream",
          "text": [
            "<class 'pandas.core.frame.DataFrame'>\n",
            "RangeIndex: 758 entries, 0 to 757\n",
            "Data columns (total 9 columns):\n",
            " #   Column  Non-Null Count  Dtype  \n",
            "---  ------  --------------  -----  \n",
            " 0   0       758 non-null    int64  \n",
            " 1   1       758 non-null    int64  \n",
            " 2   2       758 non-null    int64  \n",
            " 3   3       758 non-null    int64  \n",
            " 4   4       758 non-null    int64  \n",
            " 5   5       758 non-null    float64\n",
            " 6   6       758 non-null    float64\n",
            " 7   7       758 non-null    int64  \n",
            " 8   8       758 non-null    int64  \n",
            "dtypes: float64(2), int64(7)\n",
            "memory usage: 53.4 KB\n"
          ],
          "name": "stdout"
        }
      ]
    },
    {
      "cell_type": "code",
      "metadata": {
        "id": "2u2FCzba4s_C",
        "colab_type": "code",
        "colab": {
          "base_uri": "https://localhost:8080/",
          "height": 196
        },
        "outputId": "792abe24-7059-41f6-99b3-42d183501812"
      },
      "source": [
        "dados.columns = ['Col0','Col1','Col2','Col3','Col4','Col5','Col6','Col7','Col8']\n",
        "dados.head()"
      ],
      "execution_count": 5,
      "outputs": [
        {
          "output_type": "execute_result",
          "data": {
            "text/html": [
              "<div>\n",
              "<style scoped>\n",
              "    .dataframe tbody tr th:only-of-type {\n",
              "        vertical-align: middle;\n",
              "    }\n",
              "\n",
              "    .dataframe tbody tr th {\n",
              "        vertical-align: top;\n",
              "    }\n",
              "\n",
              "    .dataframe thead th {\n",
              "        text-align: right;\n",
              "    }\n",
              "</style>\n",
              "<table border=\"1\" class=\"dataframe\">\n",
              "  <thead>\n",
              "    <tr style=\"text-align: right;\">\n",
              "      <th></th>\n",
              "      <th>Col0</th>\n",
              "      <th>Col1</th>\n",
              "      <th>Col2</th>\n",
              "      <th>Col3</th>\n",
              "      <th>Col4</th>\n",
              "      <th>Col5</th>\n",
              "      <th>Col6</th>\n",
              "      <th>Col7</th>\n",
              "      <th>Col8</th>\n",
              "    </tr>\n",
              "  </thead>\n",
              "  <tbody>\n",
              "    <tr>\n",
              "      <th>0</th>\n",
              "      <td>6</td>\n",
              "      <td>148</td>\n",
              "      <td>72</td>\n",
              "      <td>35</td>\n",
              "      <td>0</td>\n",
              "      <td>33.6</td>\n",
              "      <td>0.627</td>\n",
              "      <td>50</td>\n",
              "      <td>1</td>\n",
              "    </tr>\n",
              "    <tr>\n",
              "      <th>1</th>\n",
              "      <td>1</td>\n",
              "      <td>85</td>\n",
              "      <td>66</td>\n",
              "      <td>29</td>\n",
              "      <td>0</td>\n",
              "      <td>26.6</td>\n",
              "      <td>0.351</td>\n",
              "      <td>31</td>\n",
              "      <td>0</td>\n",
              "    </tr>\n",
              "    <tr>\n",
              "      <th>2</th>\n",
              "      <td>8</td>\n",
              "      <td>183</td>\n",
              "      <td>64</td>\n",
              "      <td>0</td>\n",
              "      <td>0</td>\n",
              "      <td>23.3</td>\n",
              "      <td>0.672</td>\n",
              "      <td>32</td>\n",
              "      <td>1</td>\n",
              "    </tr>\n",
              "    <tr>\n",
              "      <th>3</th>\n",
              "      <td>1</td>\n",
              "      <td>89</td>\n",
              "      <td>66</td>\n",
              "      <td>23</td>\n",
              "      <td>94</td>\n",
              "      <td>28.1</td>\n",
              "      <td>0.167</td>\n",
              "      <td>21</td>\n",
              "      <td>0</td>\n",
              "    </tr>\n",
              "    <tr>\n",
              "      <th>4</th>\n",
              "      <td>0</td>\n",
              "      <td>137</td>\n",
              "      <td>40</td>\n",
              "      <td>35</td>\n",
              "      <td>168</td>\n",
              "      <td>43.1</td>\n",
              "      <td>2.288</td>\n",
              "      <td>33</td>\n",
              "      <td>1</td>\n",
              "    </tr>\n",
              "  </tbody>\n",
              "</table>\n",
              "</div>"
            ],
            "text/plain": [
              "   Col0  Col1  Col2  Col3  Col4  Col5   Col6  Col7  Col8\n",
              "0     6   148    72    35     0  33.6  0.627    50     1\n",
              "1     1    85    66    29     0  26.6  0.351    31     0\n",
              "2     8   183    64     0     0  23.3  0.672    32     1\n",
              "3     1    89    66    23    94  28.1  0.167    21     0\n",
              "4     0   137    40    35   168  43.1  2.288    33     1"
            ]
          },
          "metadata": {
            "tags": []
          },
          "execution_count": 5
        }
      ]
    },
    {
      "cell_type": "code",
      "metadata": {
        "id": "gw78Hi5k6L3p",
        "colab_type": "code",
        "colab": {
          "base_uri": "https://localhost:8080/",
          "height": 117
        },
        "outputId": "a305c756-bc3a-423e-94b5-c11deb30a245"
      },
      "source": [
        "#Separando as labels do conjunto de dados\n",
        "labels = dados['Col8']\n",
        "labels.head()"
      ],
      "execution_count": 6,
      "outputs": [
        {
          "output_type": "execute_result",
          "data": {
            "text/plain": [
              "0    1\n",
              "1    0\n",
              "2    1\n",
              "3    0\n",
              "4    1\n",
              "Name: Col8, dtype: int64"
            ]
          },
          "metadata": {
            "tags": []
          },
          "execution_count": 6
        }
      ]
    },
    {
      "cell_type": "code",
      "metadata": {
        "id": "5QdEY9gn6f6I",
        "colab_type": "code",
        "colab": {
          "base_uri": "https://localhost:8080/",
          "height": 196
        },
        "outputId": "733e5275-a32d-4533-9901-289c03006290"
      },
      "source": [
        "dados = dados.drop('Col8', axis=1)\n",
        "\n",
        "dados.head()"
      ],
      "execution_count": 7,
      "outputs": [
        {
          "output_type": "execute_result",
          "data": {
            "text/html": [
              "<div>\n",
              "<style scoped>\n",
              "    .dataframe tbody tr th:only-of-type {\n",
              "        vertical-align: middle;\n",
              "    }\n",
              "\n",
              "    .dataframe tbody tr th {\n",
              "        vertical-align: top;\n",
              "    }\n",
              "\n",
              "    .dataframe thead th {\n",
              "        text-align: right;\n",
              "    }\n",
              "</style>\n",
              "<table border=\"1\" class=\"dataframe\">\n",
              "  <thead>\n",
              "    <tr style=\"text-align: right;\">\n",
              "      <th></th>\n",
              "      <th>Col0</th>\n",
              "      <th>Col1</th>\n",
              "      <th>Col2</th>\n",
              "      <th>Col3</th>\n",
              "      <th>Col4</th>\n",
              "      <th>Col5</th>\n",
              "      <th>Col6</th>\n",
              "      <th>Col7</th>\n",
              "    </tr>\n",
              "  </thead>\n",
              "  <tbody>\n",
              "    <tr>\n",
              "      <th>0</th>\n",
              "      <td>6</td>\n",
              "      <td>148</td>\n",
              "      <td>72</td>\n",
              "      <td>35</td>\n",
              "      <td>0</td>\n",
              "      <td>33.6</td>\n",
              "      <td>0.627</td>\n",
              "      <td>50</td>\n",
              "    </tr>\n",
              "    <tr>\n",
              "      <th>1</th>\n",
              "      <td>1</td>\n",
              "      <td>85</td>\n",
              "      <td>66</td>\n",
              "      <td>29</td>\n",
              "      <td>0</td>\n",
              "      <td>26.6</td>\n",
              "      <td>0.351</td>\n",
              "      <td>31</td>\n",
              "    </tr>\n",
              "    <tr>\n",
              "      <th>2</th>\n",
              "      <td>8</td>\n",
              "      <td>183</td>\n",
              "      <td>64</td>\n",
              "      <td>0</td>\n",
              "      <td>0</td>\n",
              "      <td>23.3</td>\n",
              "      <td>0.672</td>\n",
              "      <td>32</td>\n",
              "    </tr>\n",
              "    <tr>\n",
              "      <th>3</th>\n",
              "      <td>1</td>\n",
              "      <td>89</td>\n",
              "      <td>66</td>\n",
              "      <td>23</td>\n",
              "      <td>94</td>\n",
              "      <td>28.1</td>\n",
              "      <td>0.167</td>\n",
              "      <td>21</td>\n",
              "    </tr>\n",
              "    <tr>\n",
              "      <th>4</th>\n",
              "      <td>0</td>\n",
              "      <td>137</td>\n",
              "      <td>40</td>\n",
              "      <td>35</td>\n",
              "      <td>168</td>\n",
              "      <td>43.1</td>\n",
              "      <td>2.288</td>\n",
              "      <td>33</td>\n",
              "    </tr>\n",
              "  </tbody>\n",
              "</table>\n",
              "</div>"
            ],
            "text/plain": [
              "   Col0  Col1  Col2  Col3  Col4  Col5   Col6  Col7\n",
              "0     6   148    72    35     0  33.6  0.627    50\n",
              "1     1    85    66    29     0  26.6  0.351    31\n",
              "2     8   183    64     0     0  23.3  0.672    32\n",
              "3     1    89    66    23    94  28.1  0.167    21\n",
              "4     0   137    40    35   168  43.1  2.288    33"
            ]
          },
          "metadata": {
            "tags": []
          },
          "execution_count": 7
        }
      ]
    },
    {
      "cell_type": "code",
      "metadata": {
        "id": "UZElkFUQ6wSO",
        "colab_type": "code",
        "colab": {
          "base_uri": "https://localhost:8080/",
          "height": 50
        },
        "outputId": "35bf86c1-04ed-4772-f96f-b9d14668d25c"
      },
      "source": [
        "print(dados.shape)\n",
        "print(labels.shape)"
      ],
      "execution_count": 8,
      "outputs": [
        {
          "output_type": "stream",
          "text": [
            "(758, 8)\n",
            "(758,)\n"
          ],
          "name": "stdout"
        }
      ]
    },
    {
      "cell_type": "markdown",
      "metadata": {
        "id": "-Epu37wF2OnX",
        "colab_type": "text"
      },
      "source": [
        "Separando os dados de treino dos de teste"
      ]
    },
    {
      "cell_type": "code",
      "metadata": {
        "id": "lDtHeocg3Ox6",
        "colab_type": "code",
        "colab": {
          "base_uri": "https://localhost:8080/",
          "height": 50
        },
        "outputId": "c989249c-cdcf-44ef-e40a-edf7b8d42a21"
      },
      "source": [
        "X_train, X_test, y_train, y_test = train_test_split(\n",
        "    dados,\n",
        "    labels,\n",
        "    test_size=0.799)\n",
        "\n",
        "print(X_train.shape)\n",
        "print(X_test.shape)"
      ],
      "execution_count": 9,
      "outputs": [
        {
          "output_type": "stream",
          "text": [
            "(152, 8)\n",
            "(606, 8)\n"
          ],
          "name": "stdout"
        }
      ]
    },
    {
      "cell_type": "code",
      "metadata": {
        "id": "7Hmq6k7o43__",
        "colab_type": "code",
        "colab": {
          "base_uri": "https://localhost:8080/",
          "height": 67
        },
        "outputId": "eb4979f6-0667-45c0-b47b-1af96770118b"
      },
      "source": [
        "y_test.value_counts()"
      ],
      "execution_count": 10,
      "outputs": [
        {
          "output_type": "execute_result",
          "data": {
            "text/plain": [
              "0    401\n",
              "1    205\n",
              "Name: Col8, dtype: int64"
            ]
          },
          "metadata": {
            "tags": []
          },
          "execution_count": 10
        }
      ]
    },
    {
      "cell_type": "code",
      "metadata": {
        "id": "S5df5Ure8cOu",
        "colab_type": "code",
        "colab": {
          "base_uri": "https://localhost:8080/",
          "height": 67
        },
        "outputId": "b3c7b2b5-84d0-41f0-9214-3f74da7a6f4e"
      },
      "source": [
        "y_train.value_counts()"
      ],
      "execution_count": 11,
      "outputs": [
        {
          "output_type": "execute_result",
          "data": {
            "text/plain": [
              "0    92\n",
              "1    60\n",
              "Name: Col8, dtype: int64"
            ]
          },
          "metadata": {
            "tags": []
          },
          "execution_count": 11
        }
      ]
    },
    {
      "cell_type": "markdown",
      "metadata": {
        "id": "TlBA8LO94J1E",
        "colab_type": "text"
      },
      "source": [
        "Criação, compilação e análise dos resultados do modelo"
      ]
    },
    {
      "cell_type": "code",
      "metadata": {
        "id": "ych4YB9z-zAe",
        "colab_type": "code",
        "colab": {
          "base_uri": "https://localhost:8080/",
          "height": 686
        },
        "outputId": "5a5bf39c-950a-4f6f-9537-25533bd158c5"
      },
      "source": [
        "model = Sequential([\n",
        "  Dense(1000, activation='sigmoid', input_shape=(8,)),\n",
        "  Dropout(0.3),\n",
        "  Dense(500, activation='sigmoid'),\n",
        "  Dropout(0.3),\n",
        "  Dense(1, activation='sigmoid'),\n",
        "])\n",
        "\n",
        "model.compile(optimizer=Adam(),\n",
        "              loss='binary_crossentropy',\n",
        "              metrics=['accuracy'])\n",
        "\n",
        "historico = model.fit(\n",
        "    X_train,\n",
        "    y_train,\n",
        "    epochs=20,\n",
        "    batch_size=605,\n",
        "    validation_data=(X_test, y_test)\n",
        ")"
      ],
      "execution_count": 41,
      "outputs": [
        {
          "output_type": "stream",
          "text": [
            "Epoch 1/20\n",
            "1/1 [==============================] - 0s 153ms/step - loss: 0.8352 - accuracy: 0.4079 - val_loss: 1.0090 - val_accuracy: 0.6617\n",
            "Epoch 2/20\n",
            "1/1 [==============================] - 0s 33ms/step - loss: 1.1272 - accuracy: 0.6053 - val_loss: 0.8259 - val_accuracy: 0.6617\n",
            "Epoch 3/20\n",
            "1/1 [==============================] - 0s 31ms/step - loss: 0.9157 - accuracy: 0.6053 - val_loss: 0.6367 - val_accuracy: 0.6617\n",
            "Epoch 4/20\n",
            "1/1 [==============================] - 0s 31ms/step - loss: 0.7095 - accuracy: 0.5395 - val_loss: 0.8580 - val_accuracy: 0.3383\n",
            "Epoch 5/20\n",
            "1/1 [==============================] - 0s 31ms/step - loss: 0.8356 - accuracy: 0.4079 - val_loss: 0.8867 - val_accuracy: 0.3399\n",
            "Epoch 6/20\n",
            "1/1 [==============================] - 0s 31ms/step - loss: 0.8113 - accuracy: 0.4539 - val_loss: 0.7074 - val_accuracy: 0.5248\n",
            "Epoch 7/20\n",
            "1/1 [==============================] - 0s 32ms/step - loss: 0.6783 - accuracy: 0.5921 - val_loss: 0.6268 - val_accuracy: 0.6535\n",
            "Epoch 8/20\n",
            "1/1 [==============================] - 0s 31ms/step - loss: 0.6687 - accuracy: 0.6184 - val_loss: 0.6718 - val_accuracy: 0.6617\n",
            "Epoch 9/20\n",
            "1/1 [==============================] - 0s 38ms/step - loss: 0.7596 - accuracy: 0.6053 - val_loss: 0.6933 - val_accuracy: 0.6617\n",
            "Epoch 10/20\n",
            "1/1 [==============================] - 0s 35ms/step - loss: 0.7762 - accuracy: 0.5987 - val_loss: 0.6593 - val_accuracy: 0.6716\n",
            "Epoch 11/20\n",
            "1/1 [==============================] - 0s 33ms/step - loss: 0.6947 - accuracy: 0.5987 - val_loss: 0.6183 - val_accuracy: 0.6568\n",
            "Epoch 12/20\n",
            "1/1 [==============================] - 0s 30ms/step - loss: 0.6207 - accuracy: 0.6184 - val_loss: 0.6308 - val_accuracy: 0.6452\n",
            "Epoch 13/20\n",
            "1/1 [==============================] - 0s 33ms/step - loss: 0.6277 - accuracy: 0.6250 - val_loss: 0.6879 - val_accuracy: 0.5858\n",
            "Epoch 14/20\n",
            "1/1 [==============================] - 0s 31ms/step - loss: 0.6156 - accuracy: 0.6908 - val_loss: 0.7128 - val_accuracy: 0.5594\n",
            "Epoch 15/20\n",
            "1/1 [==============================] - 0s 30ms/step - loss: 0.6350 - accuracy: 0.6579 - val_loss: 0.6773 - val_accuracy: 0.6040\n",
            "Epoch 16/20\n",
            "1/1 [==============================] - 0s 31ms/step - loss: 0.6518 - accuracy: 0.5921 - val_loss: 0.6267 - val_accuracy: 0.6535\n",
            "Epoch 17/20\n",
            "1/1 [==============================] - 0s 33ms/step - loss: 0.6191 - accuracy: 0.6316 - val_loss: 0.6084 - val_accuracy: 0.6749\n",
            "Epoch 18/20\n",
            "1/1 [==============================] - 0s 32ms/step - loss: 0.6081 - accuracy: 0.6711 - val_loss: 0.6171 - val_accuracy: 0.6799\n",
            "Epoch 19/20\n",
            "1/1 [==============================] - 0s 33ms/step - loss: 0.6044 - accuracy: 0.6776 - val_loss: 0.6252 - val_accuracy: 0.6700\n",
            "Epoch 20/20\n",
            "1/1 [==============================] - 0s 34ms/step - loss: 0.6148 - accuracy: 0.6645 - val_loss: 0.6196 - val_accuracy: 0.6865\n"
          ],
          "name": "stdout"
        }
      ]
    },
    {
      "cell_type": "code",
      "metadata": {
        "id": "GTYMIJl72zCt",
        "colab_type": "code",
        "colab": {
          "base_uri": "https://localhost:8080/",
          "height": 1000
        },
        "outputId": "71effaf5-7ea8-4510-a66b-db2f0e23b912"
      },
      "source": [
        "historico.history"
      ],
      "execution_count": 42,
      "outputs": [
        {
          "output_type": "execute_result",
          "data": {
            "text/plain": [
              "{'accuracy': [0.40789473056793213,\n",
              "  0.6052631735801697,\n",
              "  0.6052631735801697,\n",
              "  0.5394737124443054,\n",
              "  0.40789473056793213,\n",
              "  0.45394736528396606,\n",
              "  0.5921052694320679,\n",
              "  0.6184210777282715,\n",
              "  0.6052631735801697,\n",
              "  0.5986841917037964,\n",
              "  0.5986841917037964,\n",
              "  0.6184210777282715,\n",
              "  0.625,\n",
              "  0.6907894611358643,\n",
              "  0.6578947305679321,\n",
              "  0.5921052694320679,\n",
              "  0.6315789222717285,\n",
              "  0.6710526347160339,\n",
              "  0.6776315569877625,\n",
              "  0.6644737124443054],\n",
              " 'loss': [0.8351719379425049,\n",
              "  1.1272052526474,\n",
              "  0.9157403707504272,\n",
              "  0.7094593644142151,\n",
              "  0.8356115221977234,\n",
              "  0.8112660646438599,\n",
              "  0.6783064603805542,\n",
              "  0.6686949729919434,\n",
              "  0.7595703601837158,\n",
              "  0.7761645317077637,\n",
              "  0.6947294473648071,\n",
              "  0.6206962466239929,\n",
              "  0.6277098059654236,\n",
              "  0.6156497001647949,\n",
              "  0.6350187063217163,\n",
              "  0.6517766118049622,\n",
              "  0.6190735697746277,\n",
              "  0.6081290245056152,\n",
              "  0.6044163107872009,\n",
              "  0.6147821545600891],\n",
              " 'val_accuracy': [0.6617161631584167,\n",
              "  0.6617161631584167,\n",
              "  0.6617161631584167,\n",
              "  0.33828383684158325,\n",
              "  0.33993399143218994,\n",
              "  0.5247524976730347,\n",
              "  0.6534653306007385,\n",
              "  0.6617161631584167,\n",
              "  0.6617161631584167,\n",
              "  0.6716171503067017,\n",
              "  0.6567656993865967,\n",
              "  0.6452144980430603,\n",
              "  0.5858085751533508,\n",
              "  0.5594059228897095,\n",
              "  0.603960394859314,\n",
              "  0.6534653306007385,\n",
              "  0.6749175190925598,\n",
              "  0.6798679828643799,\n",
              "  0.669966995716095,\n",
              "  0.6864686608314514],\n",
              " 'val_loss': [1.009013295173645,\n",
              "  0.8258852362632751,\n",
              "  0.6367021203041077,\n",
              "  0.8580229878425598,\n",
              "  0.8866702318191528,\n",
              "  0.7073522806167603,\n",
              "  0.6268192529678345,\n",
              "  0.6718363761901855,\n",
              "  0.6933042407035828,\n",
              "  0.6593272686004639,\n",
              "  0.6182819604873657,\n",
              "  0.6307582259178162,\n",
              "  0.6879137754440308,\n",
              "  0.7127878665924072,\n",
              "  0.6772786974906921,\n",
              "  0.6266627311706543,\n",
              "  0.6083994507789612,\n",
              "  0.6171470284461975,\n",
              "  0.6252256631851196,\n",
              "  0.6195700764656067]}"
            ]
          },
          "metadata": {
            "tags": []
          },
          "execution_count": 42
        }
      ]
    },
    {
      "cell_type": "code",
      "metadata": {
        "id": "cjFyuBeH2rNm",
        "colab_type": "code",
        "colab": {
          "base_uri": "https://localhost:8080/",
          "height": 313
        },
        "outputId": "ff45ff64-7071-4257-a61a-bdaca62eaac8"
      },
      "source": [
        "plt.plot(historico.history['accuracy'])\n",
        "plt.plot(historico.history['val_accuracy'])\n",
        "plt.legend(['Treino', 'Validação'])\n",
        "plt.xlabel('Épocas')\n",
        "plt.ylabel('Acurácia')\n",
        "plt.title('Acurácia dos dados de treino e validação')"
      ],
      "execution_count": 43,
      "outputs": [
        {
          "output_type": "execute_result",
          "data": {
            "text/plain": [
              "Text(0.5, 1.0, 'Acurácia dos dados de treino e validação')"
            ]
          },
          "metadata": {
            "tags": []
          },
          "execution_count": 43
        },
        {
          "output_type": "display_data",
          "data": {
            "image/png": "[encoded data removed]",
            "text/plain": [
              "<Figure size 432x288 with 1 Axes>"
            ]
          },
          "metadata": {
            "tags": [],
            "needs_background": "light"
          }
        }
      ]
    },
    {
      "cell_type": "code",
      "metadata": {
        "id": "FQw2HLXZ32X2",
        "colab_type": "code",
        "colab": {
          "base_uri": "https://localhost:8080/",
          "height": 313
        },
        "outputId": "a01a8095-2abb-4d6d-965b-29c9113d62bd"
      },
      "source": [
        "plt.plot(historico.history['loss'])\n",
        "plt.plot(historico.history['val_loss'])\n",
        "plt.legend(['Treino', 'Validação'])\n",
        "plt.xlabel('Épocas')\n",
        "plt.ylabel('Perda')\n",
        "plt.title('Perda dos dados de treino e validação')"
      ],
      "execution_count": 44,
      "outputs": [
        {
          "output_type": "execute_result",
          "data": {
            "text/plain": [
              "Text(0.5, 1.0, 'Perda dos dados de treino e validação')"
            ]
          },
          "metadata": {
            "tags": []
          },
          "execution_count": 44
        },
        {
          "output_type": "display_data",
          "data": {
            "image/png": "[encoded data removed]",
            "text/plain": [
              "<Figure size 432x288 with 1 Axes>"
            ]
          },
          "metadata": {
            "tags": [],
            "needs_background": "light"
          }
        }
      ]
    }
  ]
}