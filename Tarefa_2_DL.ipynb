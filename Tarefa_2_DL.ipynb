{
  "nbformat": 4,
  "nbformat_minor": 0,
  "metadata": {
    "colab": {
      "name": "Tarefa 2 DL.ipynb",
      "provenance": [],
      "authorship_tag": "ABX9TyOdMjqL4AkwgJDZw/wQHX8+",
      "include_colab_link": true
    },
    "kernelspec": {
      "name": "python3",
      "display_name": "Python 3"
    }
  },
  "cells": [
    {
      "cell_type": "markdown",
      "metadata": {
        "id": "view-in-github",
        "colab_type": "text"
      },
      "source": [
        "<a href=\"https://colab.research.google.com/github/vitormm44/materia-dl/blob/master/Tarefa_2_DL.ipynb\" target=\"_parent\"><img src=\"https://colab.research.google.com/assets/colab-badge.svg\" alt=\"Open In Colab\"/></a>"
      ]
    },
    {
      "cell_type": "markdown",
      "metadata": {
        "id": "FxhM8RAl_WHS",
        "colab_type": "text"
      },
      "source": [
        "Imports"
      ]
    },
    {
      "cell_type": "code",
      "metadata": {
        "id": "Y3QxF-YNly15",
        "colab_type": "code",
        "colab": {}
      },
      "source": [
        "from tensorflow import keras\n",
        "import numpy as np\n",
        "from tensorflow.keras.models import Sequential\n",
        "from tensorflow.keras.layers import Dense\n",
        "from tensorflow.keras.optimizers import Adam\n",
        "from tensorflow.keras.layers import Dropout\n",
        "from keras.utils import to_categorical\n",
        "import matplotlib.pyplot as plt"
      ],
      "execution_count": 21,
      "outputs": []
    },
    {
      "cell_type": "markdown",
      "metadata": {
        "id": "6i3OzkM7_Jko",
        "colab_type": "text"
      },
      "source": [
        "Carregando dataset e tratando dados"
      ]
    },
    {
      "cell_type": "code",
      "metadata": {
        "id": "yINQTfMGmOpm",
        "colab_type": "code",
        "colab": {
          "base_uri": "https://localhost:8080/",
          "height": 50
        },
        "outputId": "e80e0da2-ab9e-4b28-e5b0-2bed65a95184"
      },
      "source": [
        "dataset = keras.datasets.mnist\n",
        "\n",
        "(train_images, train_labels), (test_images, test_labels) = dataset.load_data()"
      ],
      "execution_count": 2,
      "outputs": [
        {
          "output_type": "stream",
          "text": [
            "Downloading data from https://storage.googleapis.com/tensorflow/tf-keras-datasets/mnist.npz\n",
            "11493376/11490434 [==============================] - 0s 0us/step\n"
          ],
          "name": "stdout"
        }
      ]
    },
    {
      "cell_type": "code",
      "metadata": {
        "id": "9jszqo2dnEj-",
        "colab_type": "code",
        "colab": {
          "base_uri": "https://localhost:8080/",
          "height": 50
        },
        "outputId": "68c31955-79f3-41e0-d4da-5b9500962a27"
      },
      "source": [
        "print(train_images.shape)\n",
        "print(train_labels.shape)"
      ],
      "execution_count": 3,
      "outputs": [
        {
          "output_type": "stream",
          "text": [
            "(60000, 28, 28)\n",
            "(60000,)\n"
          ],
          "name": "stdout"
        }
      ]
    },
    {
      "cell_type": "code",
      "metadata": {
        "id": "upTHnTmJnN6c",
        "colab_type": "code",
        "colab": {}
      },
      "source": [
        "#Normalizar os dados\n",
        "\n",
        "train_images = (train_images / 255) - 0.5\n",
        "test_images = (test_images / 255) - 0.5"
      ],
      "execution_count": 4,
      "outputs": []
    },
    {
      "cell_type": "code",
      "metadata": {
        "id": "LXrsBx9an1bO",
        "colab_type": "code",
        "colab": {
          "base_uri": "https://localhost:8080/",
          "height": 50
        },
        "outputId": "a06fe124-bc41-4950-dba5-f2c95f821846"
      },
      "source": [
        "# Flatten the images\n",
        "\n",
        "train_images = train_images.reshape((-1, 784))\n",
        "test_images = test_images.reshape((-1, 784))\n",
        "\n",
        "print(train_images.shape)\n",
        "print(test_images.shape)"
      ],
      "execution_count": 5,
      "outputs": [
        {
          "output_type": "stream",
          "text": [
            "(60000, 784)\n",
            "(10000, 784)\n"
          ],
          "name": "stdout"
        }
      ]
    },
    {
      "cell_type": "markdown",
      "metadata": {
        "id": "6GYVNcig_sXB",
        "colab_type": "text"
      },
      "source": [
        ""
      ]
    },
    {
      "cell_type": "code",
      "metadata": {
        "id": "NNIYfE5eo0Ng",
        "colab_type": "code",
        "colab": {
          "base_uri": "https://localhost:8080/",
          "height": 686
        },
        "outputId": "0fa3a920-5af1-4324-ff85-dbe00bc8555a"
      },
      "source": [
        "model = Sequential([\n",
        "  Dense(64, activation='sigmoid', input_shape=(784,)),\n",
        "  Dropout(0.3),\n",
        "  Dense(64, activation='sigmoid'),\n",
        "  Dense(10, activation='softmax'),\n",
        "])\n",
        "\n",
        "model.compile(optimizer=Adam(lr=0.005),\n",
        "              loss='categorical_crossentropy',\n",
        "              metrics=['accuracy'])\n",
        "\n",
        "historico = model.fit(\n",
        "    train_images,\n",
        "    to_categorical(train_labels),\n",
        "    epochs=20,\n",
        "    batch_size=128,\n",
        "    validation_data = (test_images, keras.utils.to_categorical(test_labels))\n",
        ")"
      ],
      "execution_count": 55,
      "outputs": [
        {
          "output_type": "stream",
          "text": [
            "Epoch 1/20\n",
            "469/469 [==============================] - 2s 3ms/step - loss: 0.5998 - accuracy: 0.8260 - val_loss: 0.2417 - val_accuracy: 0.9301\n",
            "Epoch 2/20\n",
            "469/469 [==============================] - 1s 3ms/step - loss: 0.2912 - accuracy: 0.9122 - val_loss: 0.1814 - val_accuracy: 0.9459\n",
            "Epoch 3/20\n",
            "469/469 [==============================] - 1s 3ms/step - loss: 0.2417 - accuracy: 0.9266 - val_loss: 0.1645 - val_accuracy: 0.9510\n",
            "Epoch 4/20\n",
            "469/469 [==============================] - 1s 3ms/step - loss: 0.2229 - accuracy: 0.9319 - val_loss: 0.1492 - val_accuracy: 0.9534\n",
            "Epoch 5/20\n",
            "469/469 [==============================] - 1s 3ms/step - loss: 0.2066 - accuracy: 0.9366 - val_loss: 0.1372 - val_accuracy: 0.9574\n",
            "Epoch 6/20\n",
            "469/469 [==============================] - 1s 3ms/step - loss: 0.1911 - accuracy: 0.9412 - val_loss: 0.1496 - val_accuracy: 0.9535\n",
            "Epoch 7/20\n",
            "469/469 [==============================] - 1s 3ms/step - loss: 0.1852 - accuracy: 0.9434 - val_loss: 0.1319 - val_accuracy: 0.9596\n",
            "Epoch 8/20\n",
            "469/469 [==============================] - 1s 3ms/step - loss: 0.1851 - accuracy: 0.9429 - val_loss: 0.1297 - val_accuracy: 0.9603\n",
            "Epoch 9/20\n",
            "469/469 [==============================] - 1s 3ms/step - loss: 0.1723 - accuracy: 0.9464 - val_loss: 0.1258 - val_accuracy: 0.9620\n",
            "Epoch 10/20\n",
            "469/469 [==============================] - 1s 3ms/step - loss: 0.1736 - accuracy: 0.9455 - val_loss: 0.1190 - val_accuracy: 0.9657\n",
            "Epoch 11/20\n",
            "469/469 [==============================] - 1s 3ms/step - loss: 0.1625 - accuracy: 0.9488 - val_loss: 0.1198 - val_accuracy: 0.9631\n",
            "Epoch 12/20\n",
            "469/469 [==============================] - 1s 3ms/step - loss: 0.1649 - accuracy: 0.9488 - val_loss: 0.1147 - val_accuracy: 0.9669\n",
            "Epoch 13/20\n",
            "469/469 [==============================] - 1s 3ms/step - loss: 0.1612 - accuracy: 0.9493 - val_loss: 0.1226 - val_accuracy: 0.9635\n",
            "Epoch 14/20\n",
            "469/469 [==============================] - 1s 3ms/step - loss: 0.1552 - accuracy: 0.9511 - val_loss: 0.1106 - val_accuracy: 0.9665\n",
            "Epoch 15/20\n",
            "469/469 [==============================] - 1s 3ms/step - loss: 0.1558 - accuracy: 0.9503 - val_loss: 0.1154 - val_accuracy: 0.9652\n",
            "Epoch 16/20\n",
            "469/469 [==============================] - 1s 3ms/step - loss: 0.1497 - accuracy: 0.9524 - val_loss: 0.1069 - val_accuracy: 0.9685\n",
            "Epoch 17/20\n",
            "469/469 [==============================] - 1s 3ms/step - loss: 0.1438 - accuracy: 0.9545 - val_loss: 0.1156 - val_accuracy: 0.9648\n",
            "Epoch 18/20\n",
            "469/469 [==============================] - 1s 3ms/step - loss: 0.1508 - accuracy: 0.9515 - val_loss: 0.1088 - val_accuracy: 0.9673\n",
            "Epoch 19/20\n",
            "469/469 [==============================] - 1s 3ms/step - loss: 0.1424 - accuracy: 0.9548 - val_loss: 0.1052 - val_accuracy: 0.9683\n",
            "Epoch 20/20\n",
            "469/469 [==============================] - 1s 3ms/step - loss: 0.1371 - accuracy: 0.9571 - val_loss: 0.1080 - val_accuracy: 0.9692\n"
          ],
          "name": "stdout"
        }
      ]
    },
    {
      "cell_type": "code",
      "metadata": {
        "id": "NhW5oaohsOUX",
        "colab_type": "code",
        "colab": {
          "base_uri": "https://localhost:8080/",
          "height": 1000
        },
        "outputId": "5d389c96-a794-4e41-c287-aaf3074186df"
      },
      "source": [
        "historico.history"
      ],
      "execution_count": 56,
      "outputs": [
        {
          "output_type": "execute_result",
          "data": {
            "text/plain": [
              "{'accuracy': [0.8260499835014343,\n",
              "  0.9121999740600586,\n",
              "  0.926633358001709,\n",
              "  0.9318666458129883,\n",
              "  0.9366166591644287,\n",
              "  0.9412000179290771,\n",
              "  0.9434166550636292,\n",
              "  0.9429000020027161,\n",
              "  0.9463666677474976,\n",
              "  0.9454833269119263,\n",
              "  0.9487666487693787,\n",
              "  0.9488333463668823,\n",
              "  0.9493333101272583,\n",
              "  0.9510666728019714,\n",
              "  0.9503499865531921,\n",
              "  0.9523833394050598,\n",
              "  0.9545000195503235,\n",
              "  0.9514999985694885,\n",
              "  0.9547666907310486,\n",
              "  0.9571333527565002],\n",
              " 'loss': [0.5998280644416809,\n",
              "  0.29118016362190247,\n",
              "  0.24167096614837646,\n",
              "  0.2229309231042862,\n",
              "  0.2066146284341812,\n",
              "  0.1910730004310608,\n",
              "  0.18517380952835083,\n",
              "  0.18514934182167053,\n",
              "  0.1723218411207199,\n",
              "  0.17363835871219635,\n",
              "  0.16254784166812897,\n",
              "  0.16494743525981903,\n",
              "  0.16118256747722626,\n",
              "  0.15520255267620087,\n",
              "  0.15582594275474548,\n",
              "  0.14969788491725922,\n",
              "  0.14382076263427734,\n",
              "  0.1507979929447174,\n",
              "  0.1423904150724411,\n",
              "  0.13714155554771423],\n",
              " 'val_accuracy': [0.9301000237464905,\n",
              "  0.945900022983551,\n",
              "  0.9509999752044678,\n",
              "  0.9534000158309937,\n",
              "  0.9574000239372253,\n",
              "  0.953499972820282,\n",
              "  0.9595999717712402,\n",
              "  0.9603000283241272,\n",
              "  0.9620000123977661,\n",
              "  0.9656999707221985,\n",
              "  0.963100016117096,\n",
              "  0.9668999910354614,\n",
              "  0.9635000228881836,\n",
              "  0.9664999842643738,\n",
              "  0.9652000069618225,\n",
              "  0.968500018119812,\n",
              "  0.9648000001907349,\n",
              "  0.9672999978065491,\n",
              "  0.9682999849319458,\n",
              "  0.9692000150680542],\n",
              " 'val_loss': [0.2416742891073227,\n",
              "  0.18140116333961487,\n",
              "  0.16448645293712616,\n",
              "  0.14921461045742035,\n",
              "  0.1371621936559677,\n",
              "  0.14958329498767853,\n",
              "  0.13186566531658173,\n",
              "  0.12973140180110931,\n",
              "  0.12581096589565277,\n",
              "  0.1189604252576828,\n",
              "  0.11982318013906479,\n",
              "  0.11471062898635864,\n",
              "  0.12260934710502625,\n",
              "  0.11063432693481445,\n",
              "  0.11537101864814758,\n",
              "  0.10686460882425308,\n",
              "  0.1156177893280983,\n",
              "  0.10875646024942398,\n",
              "  0.10519030690193176,\n",
              "  0.10795228183269501]}"
            ]
          },
          "metadata": {
            "tags": []
          },
          "execution_count": 56
        }
      ]
    },
    {
      "cell_type": "code",
      "metadata": {
        "id": "UOHNN0BaBZLO",
        "colab_type": "code",
        "colab": {
          "base_uri": "https://localhost:8080/",
          "height": 313
        },
        "outputId": "8e48f136-8a95-466a-d52a-99d4222b5ebc"
      },
      "source": [
        "plt.plot(historico.history['accuracy'])\n",
        "plt.plot(historico.history['val_accuracy'])\n",
        "plt.legend(['Treino', 'Validação'])\n",
        "plt.xlabel('Épocas')\n",
        "plt.ylabel('Acurácia')\n",
        "plt.title('Acurácia dos dados de treino e validação')"
      ],
      "execution_count": 57,
      "outputs": [
        {
          "output_type": "execute_result",
          "data": {
            "text/plain": [
              "Text(0.5, 1.0, 'Acurácia dos dados de treino e validação')"
            ]
          },
          "metadata": {
            "tags": []
          },
          "execution_count": 57
        },
        {
          "output_type": "display_data",
          "data": {
            "image/png": "[encoded data removed]",
            "text/plain": [
              "<Figure size 432x288 with 1 Axes>"
            ]
          },
          "metadata": {
            "tags": [],
            "needs_background": "light"
          }
        }
      ]
    },
    {
      "cell_type": "code",
      "metadata": {
        "id": "kkH9-MZjBpOO",
        "colab_type": "code",
        "colab": {
          "base_uri": "https://localhost:8080/",
          "height": 313
        },
        "outputId": "8802fbf4-4189-4c56-c387-74cf9dd74632"
      },
      "source": [
        "plt.plot(historico.history['loss'])\n",
        "plt.plot(historico.history['val_loss'])\n",
        "plt.legend(['Treino', 'Validação'])\n",
        "plt.xlabel('Épocas')\n",
        "plt.ylabel('Perda')\n",
        "plt.title('Perda dos dados de treino e validação')"
      ],
      "execution_count": 58,
      "outputs": [
        {
          "output_type": "execute_result",
          "data": {
            "text/plain": [
              "Text(0.5, 1.0, 'Perda dos dados de treino e validação')"
            ]
          },
          "metadata": {
            "tags": []
          },
          "execution_count": 58
        },
        {
          "output_type": "display_data",
          "data": {
            "image/png": "[encoded data removed]",
            "text/plain": [
              "<Figure size 432x288 with 1 Axes>"
            ]
          },
          "metadata": {
            "tags": [],
            "needs_background": "light"
          }
        }
      ]
    },
    {
      "cell_type": "markdown",
      "metadata": {
        "id": "lqC2AkRAB9QI",
        "colab_type": "text"
      },
      "source": [
        "Predições"
      ]
    },
    {
      "cell_type": "code",
      "metadata": {
        "id": "epjE7fBXumY_",
        "colab_type": "code",
        "colab": {
          "base_uri": "https://localhost:8080/",
          "height": 50
        },
        "outputId": "67cee2c4-f131-4783-e385-760c93347574"
      },
      "source": [
        "predictions = model.predict(test_images)\n",
        "\n",
        "acertos = sum(np.argmax(predictions, axis=1) == test_labels)\n",
        "\n",
        "prediction_rate = acerto/len(test_labels)\n",
        "print(prediction_rate)"
      ],
      "execution_count": 68,
      "outputs": [
        {
          "output_type": "stream",
          "text": [
            "(10000,)\n",
            "0.9692\n"
          ],
          "name": "stdout"
        }
      ]
    }
  ]
}