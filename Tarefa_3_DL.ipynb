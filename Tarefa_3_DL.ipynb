{
  "nbformat": 4,
  "nbformat_minor": 0,
  "metadata": {
    "colab": {
      "name": "Tarefa 3 DL.ipynb",
      "provenance": [],
      "authorship_tag": "ABX9TyP6zoFiBvs2Vf9lsv8nYCP5",
      "include_colab_link": true
    },
    "kernelspec": {
      "name": "python3",
      "display_name": "Python 3"
    }
  },
  "cells": [
    {
      "cell_type": "markdown",
      "metadata": {
        "id": "view-in-github",
        "colab_type": "text"
      },
      "source": [
        "<a href=\"https://colab.research.google.com/github/vitormm44/materia-dl/blob/master/Tarefa_3_DL.ipynb\" target=\"_parent\"><img src=\"https://colab.research.google.com/assets/colab-badge.svg\" alt=\"Open In Colab\"/></a>"
      ]
    },
    {
      "cell_type": "markdown",
      "metadata": {
        "id": "-k4Mf13y5LvB",
        "colab_type": "text"
      },
      "source": [
        "Importando bibliotecas e dataset"
      ]
    },
    {
      "cell_type": "code",
      "metadata": {
        "id": "evtfSQMi3Fp-",
        "colab_type": "code",
        "colab": {}
      },
      "source": [
        "import tensorflow\n",
        "import numpy as np\n",
        "import matplotlib.pyplot as plt"
      ],
      "execution_count": 6,
      "outputs": []
    },
    {
      "cell_type": "code",
      "metadata": {
        "id": "KE73IZpy3VFW",
        "colab_type": "code",
        "colab": {
          "base_uri": "https://localhost:8080/",
          "height": 50
        },
        "outputId": "064515a5-8388-4f4c-a80b-0511355918ee"
      },
      "source": [
        "(train_images, train_labels), (test_images, test_labels) = tensorflow.keras.datasets.mnist.load_data()"
      ],
      "execution_count": 2,
      "outputs": [
        {
          "output_type": "stream",
          "text": [
            "Downloading data from https://storage.googleapis.com/tensorflow/tf-keras-datasets/mnist.npz\n",
            "11493376/11490434 [==============================] - 0s 0us/step\n"
          ],
          "name": "stdout"
        }
      ]
    },
    {
      "cell_type": "code",
      "metadata": {
        "id": "pHChN8j63o0K",
        "colab_type": "code",
        "colab": {
          "base_uri": "https://localhost:8080/",
          "height": 50
        },
        "outputId": "98a6cd12-b68d-4f33-85ff-20241376b77a"
      },
      "source": [
        "print(train_images.shape)\n",
        "print(train_labels.shape)"
      ],
      "execution_count": 3,
      "outputs": [
        {
          "output_type": "stream",
          "text": [
            "(60000, 28, 28)\n",
            "(60000,)\n"
          ],
          "name": "stdout"
        }
      ]
    },
    {
      "cell_type": "markdown",
      "metadata": {
        "id": "ENbODA_M4m9y",
        "colab_type": "text"
      },
      "source": [
        "Normalizando as imagens de treino e teste"
      ]
    },
    {
      "cell_type": "code",
      "metadata": {
        "id": "KWBBhcqV3xMQ",
        "colab_type": "code",
        "colab": {}
      },
      "source": [
        "train_images = train_images/255 - 0.5\n",
        "test_images = test_images/255 - 0.5"
      ],
      "execution_count": 4,
      "outputs": []
    },
    {
      "cell_type": "markdown",
      "metadata": {
        "id": "-4-_-aOA4qVE",
        "colab_type": "text"
      },
      "source": [
        "Adicionando mais uma dimensão nas imagens de treino e teste"
      ]
    },
    {
      "cell_type": "code",
      "metadata": {
        "id": "ydM6LT1n4GWG",
        "colab_type": "code",
        "colab": {
          "base_uri": "https://localhost:8080/",
          "height": 50
        },
        "outputId": "24c14822-ba6c-4fba-e067-b1c6d059d336"
      },
      "source": [
        "train_images = np.expand_dims(train_images, axis=3)\n",
        "test_images = np.expand_dims(test_images, axis=3)\n",
        "\n",
        "print(train_images.shape)\n",
        "print(test_images.shape)"
      ],
      "execution_count": 7,
      "outputs": [
        {
          "output_type": "stream",
          "text": [
            "(60000, 28, 28, 1)\n",
            "(10000, 28, 28, 1)\n"
          ],
          "name": "stdout"
        }
      ]
    },
    {
      "cell_type": "markdown",
      "metadata": {
        "id": "OMBjDLk65thF",
        "colab_type": "text"
      },
      "source": [
        "Criando, compilando e treinando a Rede"
      ]
    },
    {
      "cell_type": "code",
      "metadata": {
        "id": "EY6UQKaN4zL3",
        "colab_type": "code",
        "colab": {}
      },
      "source": [
        "from tensorflow.keras.layers import Dense, Conv2D, MaxPooling2D, Flatten, Dropout\n",
        "\n",
        "num_filters = 8\n",
        "filter_size = 3\n",
        "pool_size = 2\n",
        "\n",
        "modelo = tensorflow.keras.models.Sequential([#Conv2D(32, filter_size, input_shape=(28,28,1)),\n",
        "                                             Conv2D(32, kernel_size = (5,5), strides = (1,1), activation = 'relu', input_shape = (28, 28, 1)),\n",
        "                                             MaxPooling2D(pool_size=pool_size),\n",
        "                                             Dropout(.3),\n",
        "                                             Conv2D(16, filter_size),\n",
        "                                             MaxPooling2D(pool_size=4),\n",
        "                                             Flatten(),\n",
        "                                             Dense(10, activation='softmax')\n",
        "                                             ])"
      ],
      "execution_count": 43,
      "outputs": []
    },
    {
      "cell_type": "code",
      "metadata": {
        "id": "izB4_ZAs6kWP",
        "colab_type": "code",
        "colab": {}
      },
      "source": [
        "modelo.compile(optimizer='adam',\n",
        "               loss='categorical_crossentropy',\n",
        "               metrics=['accuracy'])"
      ],
      "execution_count": 44,
      "outputs": []
    },
    {
      "cell_type": "code",
      "metadata": {
        "id": "z7K35Y4b661l",
        "colab_type": "code",
        "colab": {
          "base_uri": "https://localhost:8080/",
          "height": 184
        },
        "outputId": "533ff0ba-617c-4f64-efd2-0f6ef6030f36"
      },
      "source": [
        "historico = modelo.fit(train_images,\n",
        "           tensorflow.keras.utils.to_categorical(train_labels),\n",
        "           epochs=5,\n",
        "           validation_data=(test_images, tensorflow.keras.utils.to_categorical(test_labels))\n",
        "    \n",
        ")"
      ],
      "execution_count": 45,
      "outputs": [
        {
          "output_type": "stream",
          "text": [
            "Epoch 1/5\n",
            "1875/1875 [==============================] - 39s 21ms/step - loss: 0.3221 - accuracy: 0.9027 - val_loss: 0.1122 - val_accuracy: 0.9656\n",
            "Epoch 2/5\n",
            "1875/1875 [==============================] - 39s 21ms/step - loss: 0.1231 - accuracy: 0.9613 - val_loss: 0.0753 - val_accuracy: 0.9764\n",
            "Epoch 3/5\n",
            "1875/1875 [==============================] - 39s 21ms/step - loss: 0.0989 - accuracy: 0.9693 - val_loss: 0.0671 - val_accuracy: 0.9772\n",
            "Epoch 4/5\n",
            "1875/1875 [==============================] - 39s 21ms/step - loss: 0.0844 - accuracy: 0.9744 - val_loss: 0.0633 - val_accuracy: 0.9810\n",
            "Epoch 5/5\n",
            "1875/1875 [==============================] - 39s 21ms/step - loss: 0.0785 - accuracy: 0.9757 - val_loss: 0.0657 - val_accuracy: 0.9795\n"
          ],
          "name": "stdout"
        }
      ]
    },
    {
      "cell_type": "code",
      "metadata": {
        "id": "daxtcmy68CjB",
        "colab_type": "code",
        "colab": {
          "base_uri": "https://localhost:8080/",
          "height": 313
        },
        "outputId": "56d392c5-be86-4a2e-f4dd-5d7cd5477f32"
      },
      "source": [
        "plt.plot(historico.history['accuracy'])\n",
        "plt.plot(historico.history['val_accuracy'])\n",
        "plt.title('Acurácia por época')\n",
        "plt.xlabel('Época')\n",
        "plt.ylabel('Acurácia')\n",
        "plt.legend(['Treino', 'Validação'])"
      ],
      "execution_count": 46,
      "outputs": [
        {
          "output_type": "execute_result",
          "data": {
            "text/plain": [
              "<matplotlib.legend.Legend at 0x7fb9664f0e10>"
            ]
          },
          "metadata": {
            "tags": []
          },
          "execution_count": 46
        },
        {
          "output_type": "display_data",
          "data": {
            "image/png": "[encoded data removed]",
            "text/plain": [
              "<Figure size 432x288 with 1 Axes>"
            ]
          },
          "metadata": {
            "tags": [],
            "needs_background": "light"
          }
        }
      ]
    },
    {
      "cell_type": "code",
      "metadata": {
        "id": "sW2pnFBt9V2u",
        "colab_type": "code",
        "colab": {
          "base_uri": "https://localhost:8080/",
          "height": 313
        },
        "outputId": "55df8601-c649-43c0-94ba-368208e813a1"
      },
      "source": [
        "plt.plot(historico.history['loss'])\n",
        "plt.plot(historico.history['val_loss'])\n",
        "plt.title('Perda por época')\n",
        "plt.xlabel('Época')\n",
        "plt.ylabel('Perda')\n",
        "plt.legend(['Treino', 'Validação'])"
      ],
      "execution_count": 47,
      "outputs": [
        {
          "output_type": "execute_result",
          "data": {
            "text/plain": [
              "<matplotlib.legend.Legend at 0x7fb96548fda0>"
            ]
          },
          "metadata": {
            "tags": []
          },
          "execution_count": 47
        },
        {
          "output_type": "display_data",
          "data": {
            "image/png": "[encoded data removed]",
            "text/plain": [
              "<Figure size 432x288 with 1 Axes>"
            ]
          },
          "metadata": {
            "tags": [],
            "needs_background": "light"
          }
        }
      ]
    },
    {
      "cell_type": "code",
      "metadata": {
        "id": "ZOIIwvsA9stl",
        "colab_type": "code",
        "colab": {
          "base_uri": "https://localhost:8080/",
          "height": 184
        },
        "outputId": "7203c9bd-65f4-4109-9c4b-6c02b0a43dd6"
      },
      "source": [
        "modelo_aula = tensorflow.keras.models.Sequential([\n",
        "                                             Conv2D(32, kernel_size = (5,5), strides = (1,1), activation = 'relu', input_shape = (28, 28, 1)),\n",
        "                                             MaxPooling2D(pool_size = (2,2), strides = (2,2)),\n",
        "                                             Conv2D(64, (5,5), activation = 'relu'),\n",
        "                                             MaxPooling2D(pool_size = (2,2)),\n",
        "                                             Flatten(),\n",
        "                                             Dropout(0.4),\n",
        "                                             Dense(1000, activation = 'relu'),\n",
        "                                             Dense(10, activation = 'softmax'),\n",
        "                                             ])\n",
        "\n",
        "modelo_aula.compile(optimizer='adam',\n",
        "               loss='categorical_crossentropy',\n",
        "               metrics=['accuracy'])\n",
        "\n",
        "historico_aula = modelo_aula.fit(train_images,\n",
        "           tensorflow.keras.utils.to_categorical(train_labels),\n",
        "           epochs=5,\n",
        "           validation_data=(test_images, tensorflow.keras.utils.to_categorical(test_labels))\n",
        "    \n",
        ")"
      ],
      "execution_count": 51,
      "outputs": [
        {
          "output_type": "stream",
          "text": [
            "Epoch 1/5\n",
            "1875/1875 [==============================] - 79s 42ms/step - loss: 0.1307 - accuracy: 0.9596 - val_loss: 0.0380 - val_accuracy: 0.9872\n",
            "Epoch 2/5\n",
            "1875/1875 [==============================] - 78s 42ms/step - loss: 0.0549 - accuracy: 0.9834 - val_loss: 0.0262 - val_accuracy: 0.9919\n",
            "Epoch 3/5\n",
            "1875/1875 [==============================] - 79s 42ms/step - loss: 0.0426 - accuracy: 0.9872 - val_loss: 0.0257 - val_accuracy: 0.9910\n",
            "Epoch 4/5\n",
            "1875/1875 [==============================] - 79s 42ms/step - loss: 0.0346 - accuracy: 0.9893 - val_loss: 0.0303 - val_accuracy: 0.9892\n",
            "Epoch 5/5\n",
            "1875/1875 [==============================] - 78s 42ms/step - loss: 0.0292 - accuracy: 0.9912 - val_loss: 0.0272 - val_accuracy: 0.9919\n"
          ],
          "name": "stdout"
        }
      ]
    },
    {
      "cell_type": "code",
      "metadata": {
        "id": "_vVRsxf8AeIm",
        "colab_type": "code",
        "colab": {
          "base_uri": "https://localhost:8080/",
          "height": 313
        },
        "outputId": "d02ddc90-a19c-4d25-e5cd-febba0d36992"
      },
      "source": [
        "plt.plot(historico_aula.history['accuracy'])\n",
        "plt.plot(historico_aula.history['val_accuracy'])\n",
        "plt.title('Acurácia por época')\n",
        "plt.xlabel('Época')\n",
        "plt.ylabel('Acurácia')\n",
        "plt.legend(['Treino', 'Validação'])"
      ],
      "execution_count": 52,
      "outputs": [
        {
          "output_type": "execute_result",
          "data": {
            "text/plain": [
              "<matplotlib.legend.Legend at 0x7fb965136eb8>"
            ]
          },
          "metadata": {
            "tags": []
          },
          "execution_count": 52
        },
        {
          "output_type": "display_data",
          "data": {
            "image/png": "[encoded data removed]",
            "text/plain": [
              "<Figure size 432x288 with 1 Axes>"
            ]
          },
          "metadata": {
            "tags": [],
            "needs_background": "light"
          }
        }
      ]
    },
    {
      "cell_type": "code",
      "metadata": {
        "id": "X4XATofLAiAm",
        "colab_type": "code",
        "colab": {
          "base_uri": "https://localhost:8080/",
          "height": 313
        },
        "outputId": "dc99354c-f36e-4c19-a406-af69b4b9b1b3"
      },
      "source": [
        "plt.plot(historico_aula.history['loss'])\n",
        "plt.plot(historico_aula.history['val_loss'])\n",
        "plt.title('Perda por época')\n",
        "plt.xlabel('Época')\n",
        "plt.ylabel('Perda')\n",
        "plt.legend(['Treino', 'Validação'])"
      ],
      "execution_count": 53,
      "outputs": [
        {
          "output_type": "execute_result",
          "data": {
            "text/plain": [
              "<matplotlib.legend.Legend at 0x7fb9652f4828>"
            ]
          },
          "metadata": {
            "tags": []
          },
          "execution_count": 53
        },
        {
          "output_type": "display_data",
          "data": {
            "image/png": "[encoded data removed]",
            "text/plain": [
              "<Figure size 432x288 with 1 Axes>"
            ]
          },
          "metadata": {
            "tags": [],
            "needs_background": "light"
          }
        }
      ]
    },
    {
      "cell_type": "markdown",
      "metadata": {
        "id": "PjZfSaeYLpxj",
        "colab_type": "text"
      },
      "source": [
        "Teste variáveis para quebrar o modelo"
      ]
    },
    {
      "cell_type": "code",
      "metadata": {
        "id": "SfYPWU8IAkZ5",
        "colab_type": "code",
        "colab": {
          "base_uri": "https://localhost:8080/",
          "height": 117
        },
        "outputId": "7cd5b8cb-3de2-484b-d1a8-f9f2e5762149"
      },
      "source": [
        "modelo_quebrado = tensorflow.keras.models.Sequential([\n",
        "                                             Conv2D(4, kernel_size = (5,5), strides = (2,2), activation = 'relu', input_shape = (28, 28, 1)),\n",
        "                                             MaxPooling2D(pool_size = (2,2), strides = (2,2)),\n",
        "                                             Conv2D(2, (5,5), activation = 'relu'),\n",
        "                                             MaxPooling2D(pool_size = (2,2)),\n",
        "                                             Flatten(),\n",
        "                                             Dropout(0.7),\n",
        "                                             Dense(10, activation = 'relu'),\n",
        "                                             Dense(10, activation = 'softmax'),\n",
        "                                             ])\n",
        "\n",
        "modelo_quebrado.compile(optimizer='adam',\n",
        "               loss='categorical_crossentropy',\n",
        "               metrics=['accuracy'])\n",
        "\n",
        "historico_quebrado = modelo_quebrado.fit(train_images,\n",
        "           tensorflow.keras.utils.to_categorical(train_labels),\n",
        "           epochs=3,\n",
        "           validation_data=(test_images, tensorflow.keras.utils.to_categorical(test_labels))\n",
        "    \n",
        ")"
      ],
      "execution_count": 70,
      "outputs": [
        {
          "output_type": "stream",
          "text": [
            "Epoch 1/3\n",
            "1875/1875 [==============================] - 9s 5ms/step - loss: 2.3018 - accuracy: 0.1110 - val_loss: 2.3010 - val_accuracy: 0.1135\n",
            "Epoch 2/3\n",
            "1875/1875 [==============================] - 9s 5ms/step - loss: 2.3014 - accuracy: 0.1124 - val_loss: 2.3011 - val_accuracy: 0.1135\n",
            "Epoch 3/3\n",
            "1875/1875 [==============================] - 9s 5ms/step - loss: 2.3014 - accuracy: 0.1124 - val_loss: 2.3010 - val_accuracy: 0.1135\n"
          ],
          "name": "stdout"
        }
      ]
    },
    {
      "cell_type": "code",
      "metadata": {
        "id": "dG_1EgNxBsQp",
        "colab_type": "code",
        "colab": {}
      },
      "source": [
        ""
      ],
      "execution_count": null,
      "outputs": []
    }
  ]
}